{
 "cells": [
  {
   "cell_type": "markdown",
   "metadata": {},
   "source": [
    "# Validation"
   ]
  },
  {
   "cell_type": "markdown",
   "metadata": {},
   "source": [
    "## Put the following code at the bottom of your assignment, so that you can see the potential error"
   ]
  },
  {
   "cell_type": "markdown",
   "metadata": {},
   "source": [
    "Note: Do not change function name, parameters and function call code. Try to make your code simple, and only fill in the missing part that indicated in the functions. The empty cells given should only contain your *Markdown* text."
   ]
  },
  {
   "cell_type": "markdown",
   "metadata": {},
   "source": [
    "### dataPreprocessor"
   ]
  },
  {
   "cell_type": "code",
   "execution_count": 33,
   "metadata": {
    "collapsed": false
   },
   "outputs": [],
   "source": [
    "assert(isinstance(data, pd.DataFrame)), \"data should be pandas dataframe type\""
   ]
  },
  {
   "cell_type": "markdown",
   "metadata": {},
   "source": [
    "### randomSplitCI"
   ]
  },
  {
   "cell_type": "code",
   "execution_count": 36,
   "metadata": {
    "collapsed": false
   },
   "outputs": [],
   "source": [
    "assert(isinstance(train_scores, list)), \"train_scores should be list type\"\n",
    "assert(isinstance(test_scores, list)), \"test_scores should be list type\"\n",
    "assert(isinstance(train_mean, float)), \"train_mean should be float type\"\n",
    "assert(isinstance(test_mean, float)), \"test_mean should be float type\"\n",
    "assert(isinstance(train_ci, float)), \"train_ci should be float type\"\n",
    "assert(isinstance(test_ci, float)), \"test_ci should be float type\""
   ]
  },
  {
   "cell_type": "markdown",
   "metadata": {},
   "source": [
    "### randomSplitCM"
   ]
  },
  {
   "cell_type": "code",
   "execution_count": 42,
   "metadata": {
    "collapsed": false
   },
   "outputs": [],
   "source": [
    "assert(isinstance(cm, pd.DataFrame)), \"Confusion matrix should be pandas dataframe type\""
   ]
  },
  {
   "cell_type": "markdown",
   "metadata": {},
   "source": [
    "### featureSizeAC"
   ]
  },
  {
   "cell_type": "code",
   "execution_count": 43,
   "metadata": {
    "collapsed": true
   },
   "outputs": [],
   "source": [
    "assert(isinstance(train_mean_fs, list)), \"train_mean_fs should be list type\"\n",
    "assert(isinstance(test_mean_fs, list)), \"test_mean_fs should be list type\"\n",
    "assert(isinstance(train_ci_fs, list)), \"train_ci_fs should be list type\"\n",
    "assert(isinstance(test_ci_fs, list)), \"test_ci_fs should be list type\"\n",
    "assert(len(train_mean_fs)==len(train_ci_fs)), \\\n",
    "\"list length of mean and confidence interval are not equal(train)\"\n",
    "assert(len(test_mean_fs)==len(test_ci_fs)), \\\n",
    "\"list length of mean and confidence interval are not equal(test)\""
   ]
  },
  {
   "cell_type": "markdown",
   "metadata": {},
   "source": [
    "### hyperParameterAC"
   ]
  },
  {
   "cell_type": "code",
   "execution_count": 46,
   "metadata": {
    "collapsed": false
   },
   "outputs": [],
   "source": [
    "assert(isinstance(train_mean_hp, list)), \"train_mean_hp should be list type\"\n",
    "assert(isinstance(test_mean_hp, list)), \"test_mean_hp should be list type\"\n",
    "assert(isinstance(train_ci_hp, list)), \"train_ci_hp should be list type\"\n",
    "assert(isinstance(test_ci_hp, list)), \"test_ci_hp should be list type\"\n",
    "assert(len(train_mean_hp)==len(train_ci_hp)), \\\n",
    "\"list length of mean and confidence interval are not equal(train)\"\n",
    "assert(len(test_mean_hp)==len(test_ci_hp)), \\\n",
    "\"list length of mean and confidence interval are not equal(test)\""
   ]
  },
  {
   "cell_type": "markdown",
   "metadata": {},
   "source": [
    "### dataSizeAC"
   ]
  },
  {
   "cell_type": "code",
   "execution_count": 47,
   "metadata": {
    "collapsed": true
   },
   "outputs": [],
   "source": [
    "train_mean_ds, train_ci_ds, test_mean_ds, test_ci_ds\n",
    "assert(isinstance(train_mean_ds, list)), \"train_mean_ds should be list type\"\n",
    "assert(isinstance(test_mean_ds, list)), \"test_mean_ds should be list type\"\n",
    "assert(isinstance(train_ci_ds, list)), \"train_ci_ds should be list type\"\n",
    "assert(isinstance(test_ci_ds, list)), \"test_ci_ds should be list type\"\n",
    "assert(len(train_mean_ds)==len(train_ci_ds)), \\\n",
    "\"list length of mean and confidence interval are not equal(train)\"\n",
    "assert(len(test_mean_ds)==len(test_ci_ds)), \\\n",
    "\"list length of mean and confidence interval are not equal(test)\""
   ]
  },
  {
   "cell_type": "code",
   "execution_count": null,
   "metadata": {
    "collapsed": true
   },
   "outputs": [],
   "source": []
  }
 ],
 "metadata": {
  "kernelspec": {
   "display_name": "Python 3",
   "language": "python",
   "name": "python3"
  },
  "language_info": {
   "codemirror_mode": {
    "name": "ipython",
    "version": 3
   },
   "file_extension": ".py",
   "mimetype": "text/x-python",
   "name": "python",
   "nbconvert_exporter": "python",
   "pygments_lexer": "ipython3",
   "version": "3.4.3"
  }
 },
 "nbformat": 4,
 "nbformat_minor": 2
}
